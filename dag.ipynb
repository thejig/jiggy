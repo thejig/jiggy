{
 "cells": [
  {
   "cell_type": "code",
   "execution_count": 1,
   "metadata": {},
   "outputs": [],
   "source": [
    "from src.jiggy.task import Node\n",
    "from src.jiggy.pipeline import Pipeline"
   ]
  },
  {
   "cell_type": "code",
   "execution_count": 2,
   "metadata": {},
   "outputs": [],
   "source": [
    "from copy import copy, deepcopy\n",
    "from collections import deque\n",
    "\n",
    "try:\n",
    "    from collections import OrderedDict\n",
    "except ImportError:\n",
    "    print('got here')\n",
    "    from ordereddict import OrderedDict\n",
    "\n",
    "\n",
    "class DAGValidationError(Exception):\n",
    "    pass\n",
    "    \n",
    "class DAG(object):\n",
    "    \"\"\" Directed acyclic graph implementation. \"\"\"\n",
    "    \n",
    "    library = dict()\n",
    "\n",
    "    def __init__(self):\n",
    "        \"\"\" Construct a new DAG with no nodes or edges. \"\"\"\n",
    "        self.reset_graph()\n",
    "        \n",
    "    def register_node(self, node):\n",
    "        \"\"\"Register node in library.\"\"\"\n",
    "        self.library.update({node.name: node})\n",
    "\n",
    "    def add_node(self, node, graph=None):\n",
    "        \"\"\" Add a node if it does not exist yet, or error out. \"\"\"\n",
    "        if not graph:\n",
    "            graph = self.graph\n",
    "        if node.name in graph:\n",
    "            raise KeyError('node %s already exists' % node.name)\n",
    "            \n",
    "#         if self.library:\n",
    "#             for idx, lm in enumerate(self.library):\n",
    "#                 if any(x.get(\"dependency\") ==lm.name for x in node.params):\n",
    "                \n",
    "#                     import pdb; pdb.set_trace()\n",
    "#         self.library.append(node)\n",
    "        graph[node.name] = set()\n",
    "\n",
    "    def add_node_if_not_exists(self, node, graph=None):\n",
    "        try:\n",
    "            self.add_node(node, graph=graph)\n",
    "        except KeyError:\n",
    "            pass\n",
    "\n",
    "#     def delete_node(self, node_name, graph=None):\n",
    "#         \"\"\" Deletes this node and all edges referencing it. \"\"\"\n",
    "#         if not graph:\n",
    "#             graph = self.graph\n",
    "#         if node_name not in graph:\n",
    "#             raise KeyError('node %s does not exist' % node_name)\n",
    "#         graph.pop(node_name)\n",
    "\n",
    "#         for node, edges in graph.items():\n",
    "#             if node_name in edges:\n",
    "#                 edges.remove(node_name)\n",
    "\n",
    "#     def delete_node_if_exists(self, node_name, graph=None):\n",
    "#         try:\n",
    "#             self.delete_node(node_name, graph=graph)\n",
    "#         except KeyError:\n",
    "#             pass\n",
    "\n",
    "    def add_edge(self, ind_node, dep_node, graph=None):\n",
    "        \"\"\" Add an edge (dependency) between the specified nodes. \"\"\"\n",
    "        if not graph:\n",
    "            graph = self.graph\n",
    "        if ind_node not in graph or dep_node not in graph:\n",
    "            raise KeyError('one or more nodes do not exist in graph')\n",
    "        test_graph = deepcopy(graph)\n",
    "        test_graph[ind_node].add(dep_node)\n",
    "        is_valid, message = self.validate(test_graph)\n",
    "        if is_valid:\n",
    "            graph[ind_node].add(dep_node)\n",
    "        else:\n",
    "            raise DAGValidationError()\n",
    "\n",
    "#     def delete_edge(self, ind_node, dep_node, graph=None):\n",
    "#         \"\"\" Delete an edge from the graph. \"\"\"\n",
    "#         if not graph:\n",
    "#             graph = self.graph\n",
    "#         if dep_node not in graph.get(ind_node, []):\n",
    "#             raise KeyError('this edge does not exist in graph')\n",
    "#         graph[ind_node].remove(dep_node)\n",
    "\n",
    "#     def rename_edges(self, old_task_name, new_task_name, graph=None):\n",
    "#         \"\"\" Change references to a task in existing edges. \"\"\"\n",
    "#         if not graph:\n",
    "#             graph = self.graph\n",
    "#         for node, edges in graph.items():\n",
    "\n",
    "#             if node == old_task_name:\n",
    "#                 graph[new_task_name] = copy(edges)\n",
    "#                 del graph[old_task_name]\n",
    "\n",
    "#             else:\n",
    "#                 if old_task_name in edges:\n",
    "#                     edges.remove(old_task_name)\n",
    "#                     edges.add(new_task_name)\n",
    "\n",
    "    def predecessors(self, node, graph=None):\n",
    "        \"\"\" Returns a list of all predecessors of the given node \"\"\"\n",
    "        if graph is None:\n",
    "            graph = self.graph\n",
    "        return [key for key in graph if node in graph[key]]\n",
    "\n",
    "    def downstream(self, node, graph=None):\n",
    "        \"\"\" Returns a list of all nodes this node has edges towards. \"\"\"\n",
    "        if graph is None:\n",
    "            graph = self.graph\n",
    "        if node not in graph:\n",
    "            raise KeyError('node %s is not in graph' % node)\n",
    "        return list(graph[node])\n",
    "\n",
    "    def all_downstreams(self, node, graph=None):\n",
    "        \"\"\"Returns a list of all nodes ultimately downstream\n",
    "        of the given node in the dependency graph, in\n",
    "        topological order.\"\"\"\n",
    "        if graph is None:\n",
    "            graph = self.graph\n",
    "        nodes = [node]\n",
    "        nodes_seen = set()\n",
    "        i = 0\n",
    "        while i < len(nodes):\n",
    "            downstreams = self.downstream(nodes[i], graph)\n",
    "            for downstream_node in downstreams:\n",
    "                if downstream_node not in nodes_seen:\n",
    "                    nodes_seen.add(downstream_node)\n",
    "                    nodes.append(downstream_node)\n",
    "            i += 1\n",
    "        return list(\n",
    "            filter(\n",
    "                lambda node: node in nodes_seen,\n",
    "                self.topological_sort(graph=graph)\n",
    "            )\n",
    "        )\n",
    "\n",
    "    def all_leaves(self, graph=None):\n",
    "        \"\"\" Return a list of all leaves (nodes with no downstreams) \"\"\"\n",
    "        if graph is None:\n",
    "            graph = self.graph\n",
    "        return [key for key in graph if not graph[key]]\n",
    "\n",
    "    def from_dict(self, graph_dict):\n",
    "        \"\"\" Reset the graph and build it from the passed dictionary.\n",
    "        The dictionary takes the form of {node_name: [directed edges]}\n",
    "        \"\"\"\n",
    "\n",
    "        self.reset_graph()\n",
    "        for new_node in graph_dict.keys():\n",
    "            self.add_node(new_node)\n",
    "        for ind_node, dep_nodes in graph_dict.items():\n",
    "            if not isinstance(dep_nodes, list):\n",
    "                raise TypeError('dict values must be lists')\n",
    "            for dep_node in dep_nodes:\n",
    "                self.add_edge(ind_node, dep_node)\n",
    "\n",
    "    def reset_graph(self):\n",
    "        \"\"\" Restore the graph to an empty state. \"\"\"\n",
    "        self.graph = OrderedDict()\n",
    "\n",
    "    def ind_nodes(self, graph=None):\n",
    "        \"\"\" Returns a list of all nodes in the graph with no dependencies. \"\"\"\n",
    "        if graph is None:\n",
    "            graph = self.graph\n",
    "\n",
    "        dependent_nodes = set(\n",
    "            node for dependents in graph.values() for node in dependents\n",
    "        )\n",
    "        return [node for node in graph.keys() if node not in dependent_nodes]\n",
    "\n",
    "    def validate(self, graph=None):\n",
    "        \"\"\" Returns (Boolean, message) of whether DAG is valid. \"\"\"\n",
    "        graph = graph if graph is not None else self.graph\n",
    "        if len(self.ind_nodes(graph)) == 0:\n",
    "            return (False, 'no independent nodes detected')\n",
    "        try:\n",
    "            self.topological_sort(graph)\n",
    "        except ValueError:\n",
    "            return (False, 'failed topological sort')\n",
    "        return (True, 'valid')\n",
    "\n",
    "    def topological_sort(self, graph=None):\n",
    "        \"\"\" Returns a topological ordering of the DAG.\n",
    "        Raises an error if this is not possible (graph is not valid).\n",
    "        \"\"\"\n",
    "        if graph is None:\n",
    "            graph = self.graph\n",
    "\n",
    "        in_degree = {}\n",
    "        for u in graph:\n",
    "            in_degree[u] = 0\n",
    "\n",
    "        for u in graph:\n",
    "            for v in graph[u]:\n",
    "                in_degree[v] += 1\n",
    "\n",
    "        queue = deque()\n",
    "        for u in in_degree:\n",
    "            if in_degree[u] == 0:\n",
    "                queue.appendleft(u)\n",
    "\n",
    "        l = []\n",
    "        while queue:\n",
    "            u = queue.pop()\n",
    "            l.append(u)\n",
    "            for v in graph[u]:\n",
    "                in_degree[v] -= 1\n",
    "                if in_degree[v] == 0:\n",
    "                    queue.appendleft(v)\n",
    "\n",
    "        if len(l) == len(graph):\n",
    "            return l\n",
    "        else:\n",
    "            raise ValueError('graph is not acyclic')\n",
    "\n",
    "    def size(self):\n",
    "        return len(self.graph)"
   ]
  },
  {
   "cell_type": "code",
   "execution_count": 3,
   "metadata": {},
   "outputs": [],
   "source": [
    "pipe = Pipeline('examples/inputs/new_ext.yml')"
   ]
  },
  {
   "cell_type": "code",
   "execution_count": 4,
   "metadata": {},
   "outputs": [
    {
     "data": {
      "text/plain": [
       "[{'name': 'print-somethin',\n",
       "  'description': 'Print something',\n",
       "  'function': {'source': 'examples.utils.string_manipulation.PrintThis',\n",
       "   'params': [{'type': 'str', 'value': 'THIS PIPELINE IS BONKERS'}],\n",
       "   'output': None},\n",
       "  'requires': None},\n",
       " {'name': 'print-somethin-2',\n",
       "  'description': 'Print something',\n",
       "  'function': {'source': 'examples.utils.string_manipulation.PrintThis',\n",
       "   'params': [{'type': 'str', 'value': 'THIS PIPELINE IS BONKERS'}],\n",
       "   'output': None},\n",
       "  'requires': 'print-somethin-2'},\n",
       " {'name': 'print-somethin-3',\n",
       "  'description': 'Print something',\n",
       "  'function': {'source': 'examples.utils.string_manipulation.PrintThis',\n",
       "   'params': [{'type': 'str', 'value': 'THIS PIPELINE IS BONKERS'}],\n",
       "   'output': None},\n",
       "  'requires': None},\n",
       " {'name': 'get-current-date',\n",
       "  'description': 'Gets todays date',\n",
       "  'function': {'source': 'examples.utils.dates.GetDateTask',\n",
       "   'params': None,\n",
       "   'output': [{'id': 'today-date', 'type': 'datetime'}]},\n",
       "  'requires': 'print-somethin-2'},\n",
       " {'name': 'get-first-letter',\n",
       "  'description': \"Gets today's weekday letter\",\n",
       "  'function': {'source': 'examples.utils.dates.GetFirstLetter',\n",
       "   'params': [{'type': 'str', 'value': 'weekday', 'dependency': 'get-weekday'},\n",
       "    {'type': 'int', 'value': 4}],\n",
       "   'output': [{'id': 'letter', 'type': 'str'}]},\n",
       "  'requires': 'print-somethin'},\n",
       " {'name': 'get-weekday',\n",
       "  'description': \"Gets today's weekday\",\n",
       "  'function': {'source': 'examples.utils.dates.GetWeekdayTask',\n",
       "   'params': [{'type': 'datetime',\n",
       "     'value': 'today-date',\n",
       "     'dependency': 'get-current-date'}],\n",
       "   'output': [{'id': 'weekday', 'type': 'str'}]},\n",
       "  'requires': None}]"
      ]
     },
     "execution_count": 4,
     "metadata": {},
     "output_type": "execute_result"
    }
   ],
   "source": [
    "pipe.tasks"
   ]
  },
  {
   "cell_type": "code",
   "execution_count": 5,
   "metadata": {},
   "outputs": [],
   "source": [
    "dag = DAG()"
   ]
  },
  {
   "cell_type": "code",
   "execution_count": 6,
   "metadata": {},
   "outputs": [],
   "source": [
    "for x in pipe.tasks:\n",
    "    dag.register_node(Node(x))"
   ]
  },
  {
   "cell_type": "code",
   "execution_count": 7,
   "metadata": {},
   "outputs": [
    {
     "data": {
      "text/plain": [
       "{'print-somethin': <Node `print-somethin`>,\n",
       " 'print-somethin-2': <Node `print-somethin-2`>,\n",
       " 'print-somethin-3': <Node `print-somethin-3`>,\n",
       " 'get-current-date': <Node `get-current-date`>,\n",
       " 'get-first-letter': <Node `get-first-letter`>,\n",
       " 'get-weekday': <Node `get-weekday`>}"
      ]
     },
     "execution_count": 7,
     "metadata": {},
     "output_type": "execute_result"
    }
   ],
   "source": [
    "dag.library"
   ]
  },
  {
   "cell_type": "code",
   "execution_count": 8,
   "metadata": {},
   "outputs": [
    {
     "data": {
      "text/plain": [
       "[]"
      ]
     },
     "execution_count": 8,
     "metadata": {},
     "output_type": "execute_result"
    }
   ],
   "source": [
    "dag.all_leaves()"
   ]
  },
  {
   "cell_type": "code",
   "execution_count": 9,
   "metadata": {},
   "outputs": [
    {
     "data": {
      "text/plain": [
       "{'print-somethin': <Node `print-somethin`>,\n",
       " 'print-somethin-2': <Node `print-somethin-2`>,\n",
       " 'print-somethin-3': <Node `print-somethin-3`>,\n",
       " 'get-current-date': <Node `get-current-date`>,\n",
       " 'get-first-letter': <Node `get-first-letter`>,\n",
       " 'get-weekday': <Node `get-weekday`>}"
      ]
     },
     "execution_count": 9,
     "metadata": {},
     "output_type": "execute_result"
    }
   ],
   "source": [
    "dag.library"
   ]
  },
  {
   "cell_type": "code",
   "execution_count": 10,
   "metadata": {},
   "outputs": [
    {
     "name": "stdout",
     "output_type": "stream",
     "text": [
      "OrderedDict([('print-somethin', set())])\n"
     ]
    },
    {
     "ename": "DAGValidationError",
     "evalue": "",
     "output_type": "error",
     "traceback": [
      "\u001b[0;31m---------------------------------------------------------------------------\u001b[0m",
      "\u001b[0;31mDAGValidationError\u001b[0m                        Traceback (most recent call last)",
      "\u001b[0;32m<ipython-input-10-be528152d4f9>\u001b[0m in \u001b[0;36m<module>\u001b[0;34m\u001b[0m\n\u001b[1;32m     16\u001b[0m \u001b[0;31m#             nd = [y for y in dag.library if y.name == x][0]  # need to solve\u001b[0m\u001b[0;34m\u001b[0m\u001b[0;34m\u001b[0m\u001b[0;34m\u001b[0m\u001b[0m\n\u001b[1;32m     17\u001b[0m             \u001b[0mdag\u001b[0m\u001b[0;34m.\u001b[0m\u001b[0madd_node_if_not_exists\u001b[0m\u001b[0;34m(\u001b[0m\u001b[0mdag\u001b[0m\u001b[0;34m.\u001b[0m\u001b[0mlibrary\u001b[0m\u001b[0;34m.\u001b[0m\u001b[0mget\u001b[0m\u001b[0;34m(\u001b[0m\u001b[0mx\u001b[0m\u001b[0;34m)\u001b[0m\u001b[0;34m)\u001b[0m\u001b[0;34m\u001b[0m\u001b[0;34m\u001b[0m\u001b[0m\n\u001b[0;32m---> 18\u001b[0;31m             \u001b[0mdag\u001b[0m\u001b[0;34m.\u001b[0m\u001b[0madd_edge\u001b[0m\u001b[0;34m(\u001b[0m\u001b[0mtask\u001b[0m\u001b[0;34m.\u001b[0m\u001b[0mname\u001b[0m\u001b[0;34m,\u001b[0m \u001b[0mx\u001b[0m\u001b[0;34m)\u001b[0m\u001b[0;34m\u001b[0m\u001b[0;34m\u001b[0m\u001b[0m\n\u001b[0m\u001b[1;32m     19\u001b[0m \u001b[0;34m\u001b[0m\u001b[0m\n\u001b[1;32m     20\u001b[0m     \u001b[0mprint\u001b[0m\u001b[0;34m(\u001b[0m\u001b[0mdag\u001b[0m\u001b[0;34m.\u001b[0m\u001b[0mgraph\u001b[0m\u001b[0;34m)\u001b[0m\u001b[0;34m\u001b[0m\u001b[0;34m\u001b[0m\u001b[0m\n",
      "\u001b[0;32m<ipython-input-2-e730418b5547>\u001b[0m in \u001b[0;36madd_edge\u001b[0;34m(self, ind_node, dep_node, graph)\u001b[0m\n\u001b[1;32m     76\u001b[0m             \u001b[0mgraph\u001b[0m\u001b[0;34m[\u001b[0m\u001b[0mind_node\u001b[0m\u001b[0;34m]\u001b[0m\u001b[0;34m.\u001b[0m\u001b[0madd\u001b[0m\u001b[0;34m(\u001b[0m\u001b[0mdep_node\u001b[0m\u001b[0;34m)\u001b[0m\u001b[0;34m\u001b[0m\u001b[0;34m\u001b[0m\u001b[0m\n\u001b[1;32m     77\u001b[0m         \u001b[0;32melse\u001b[0m\u001b[0;34m:\u001b[0m\u001b[0;34m\u001b[0m\u001b[0;34m\u001b[0m\u001b[0m\n\u001b[0;32m---> 78\u001b[0;31m             \u001b[0;32mraise\u001b[0m \u001b[0mDAGValidationError\u001b[0m\u001b[0;34m(\u001b[0m\u001b[0;34m)\u001b[0m\u001b[0;34m\u001b[0m\u001b[0;34m\u001b[0m\u001b[0m\n\u001b[0m\u001b[1;32m     79\u001b[0m \u001b[0;34m\u001b[0m\u001b[0m\n\u001b[1;32m     80\u001b[0m \u001b[0;31m#     def delete_edge(self, ind_node, dep_node, graph=None):\u001b[0m\u001b[0;34m\u001b[0m\u001b[0;34m\u001b[0m\u001b[0;34m\u001b[0m\u001b[0m\n",
      "\u001b[0;31mDAGValidationError\u001b[0m: "
     ]
    }
   ],
   "source": [
    "for task_name, task in dag.library.items():\n",
    "    dag.add_node_if_not_exists(task)\n",
    "#     print('Requires: ', task.requires)\n",
    "#     print('Depends: ', task.params)\n",
    "    upstreams = set()\n",
    "    # if the task has parameters, register the dependency\n",
    "    if task.params:\n",
    "        for param in task.params:\n",
    "            if param.get('dependency') in set(dag.library.keys()):\n",
    "                upstreams.add(param.get('dependency'))\n",
    "    if task.requires:\n",
    "        upstreams.add(task.requires)\n",
    "        \n",
    "    if upstreams:\n",
    "        for x in upstreams:\n",
    "#             nd = [y for y in dag.library if y.name == x][0]  # need to solve\n",
    "            dag.add_node_if_not_exists(dag.library.get(x))\n",
    "            dag.add_edge(task.name, x)\n",
    "        \n",
    "    print(dag.graph)"
   ]
  },
  {
   "cell_type": "code",
   "execution_count": null,
   "metadata": {},
   "outputs": [],
   "source": [
    "dag.topological_sort()[::-1]"
   ]
  },
  {
   "cell_type": "code",
   "execution_count": null,
   "metadata": {},
   "outputs": [],
   "source": [
    "no_deps = []\n",
    "dependents = []\n",
    "for k, v in dag.graph.items():\n",
    "    if v == set():\n",
    "        no_deps.append((k, v))\n",
    "    else:\n",
    "        dependents.append((k,v))\n",
    "no_deps.extend(dependents)\n",
    "final = {x[0], x[1] for x}"
   ]
  },
  {
   "cell_type": "code",
   "execution_count": null,
   "metadata": {},
   "outputs": [],
   "source": [
    "no_deps"
   ]
  },
  {
   "cell_type": "code",
   "execution_count": null,
   "metadata": {},
   "outputs": [],
   "source": [
    "y = DAG()"
   ]
  },
  {
   "cell_type": "code",
   "execution_count": null,
   "metadata": {},
   "outputs": [],
   "source": [
    "y.from_dict"
   ]
  }
 ],
 "metadata": {
  "kernelspec": {
   "display_name": "Python 3",
   "language": "python",
   "name": "python3"
  },
  "language_info": {
   "codemirror_mode": {
    "name": "ipython",
    "version": 3
   },
   "file_extension": ".py",
   "mimetype": "text/x-python",
   "name": "python",
   "nbconvert_exporter": "python",
   "pygments_lexer": "ipython3",
   "version": "3.7.3"
  }
 },
 "nbformat": 4,
 "nbformat_minor": 4
}
